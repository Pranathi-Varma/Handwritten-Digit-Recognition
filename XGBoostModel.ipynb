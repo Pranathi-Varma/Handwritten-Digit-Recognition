{
 "cells": [
  {
   "cell_type": "code",
   "execution_count": 44,
   "id": "91b70a1a",
   "metadata": {},
   "outputs": [],
   "source": [
    "from sklearn.metrics import precision_score\n",
    "import numpy as np\n",
    "from sklearn import datasets\n",
    "import xgboost as xgb\n",
    "from sklearn.model_selection import train_test_split\n",
    "\n",
    "iris = datasets.load_iris()\n",
    "X = iris.data\n",
    "y = iris.target"
   ]
  },
  {
   "cell_type": "code",
   "execution_count": 45,
   "id": "313a7006",
   "metadata": {},
   "outputs": [],
   "source": [
    "# split the dataset into 80% training and 20% testing\n",
    "X_train, X_test, y_train, y_test = train_test_split(X, y, test_size=0.20, random_state=42)"
   ]
  },
  {
   "cell_type": "code",
   "execution_count": 46,
   "id": "9201dfa1",
   "metadata": {},
   "outputs": [
    {
     "name": "stdout",
     "output_type": "stream",
     "text": [
      "Length of the Training Dataset: 120\n",
      "Length of the Testing Dataset: 30\n"
     ]
    }
   ],
   "source": [
    "print(\"Length of the Training Dataset:\",len(X_train));\n",
    "print(\"Length of the Testing Dataset:\",len(X_test));"
   ]
  },
  {
   "cell_type": "code",
   "execution_count": 47,
   "id": "7f515be6",
   "metadata": {},
   "outputs": [],
   "source": [
    "#Xgboost DMatrix data format \n",
    "dtrain = xgb.DMatrix(X_train, label=y_train)\n",
    "dtest = xgb.DMatrix(X_test, label=y_test)"
   ]
  },
  {
   "cell_type": "code",
   "execution_count": 48,
   "id": "3aa8bb64",
   "metadata": {},
   "outputs": [],
   "source": [
    "# configuring the parameters\n",
    "par_meters = {\n",
    "    'eta': 0.3,  \n",
    "    'silent': True, \n",
    "    'objective': 'multi:softprob',  \n",
    "    'num_class': 3, \n",
    "    'max_depth': 3  \n",
    "    }  \n",
    "iterations = 20  "
   ]
  },
  {
   "cell_type": "code",
   "execution_count": 39,
   "id": "6bb2e636",
   "metadata": {},
   "outputs": [
    {
     "name": "stdout",
     "output_type": "stream",
     "text": [
      "[16:33:35] WARNING: C:/Users/Administrator/workspace/xgboost-win64_release_1.5.1/src/learner.cc:576: \n",
      "Parameters: { \"silent\" } might not be used.\n",
      "\n",
      "  This could be a false alarm, with some parameters getting used by language bindings but\n",
      "  then being mistakenly passed down to XGBoost core, or some parameter actually being used\n",
      "  but getting flagged wrongly here. Please open an issue if you find any such cases.\n",
      "\n",
      "\n",
      "[16:33:35] WARNING: C:/Users/Administrator/workspace/xgboost-win64_release_1.5.1/src/learner.cc:1115: Starting in XGBoost 1.3.0, the default evaluation metric used with the objective 'multi:softprob' was changed from 'merror' to 'mlogloss'. Explicitly set eval_metric if you'd like to restore the old behavior.\n"
     ]
    }
   ],
   "source": [
    "#training the model\n",
    "model_train = xgb.train(par_meters, dtrain, iterations)"
   ]
  },
  {
   "cell_type": "code",
   "execution_count": 40,
   "id": "2102d710",
   "metadata": {},
   "outputs": [],
   "source": [
    "#result\n",
    "preds = model_train.predict(dtest)\n"
   ]
  },
  {
   "cell_type": "code",
   "execution_count": 41,
   "id": "d05cf57f",
   "metadata": {},
   "outputs": [
    {
     "data": {
      "text/plain": [
       "array([[0.00563805, 0.97755206, 0.01680987],\n",
       "       [0.98254657, 0.01395848, 0.00349498],\n",
       "       [0.0036375 , 0.00615226, 0.9902103 ],\n",
       "       [0.00564738, 0.97917044, 0.0151822 ],\n",
       "       [0.00540076, 0.93640935, 0.0581899 ]], dtype=float32)"
      ]
     },
     "execution_count": 41,
     "metadata": {},
     "output_type": "execute_result"
    }
   ],
   "source": [
    "preds[:5]"
   ]
  },
  {
   "cell_type": "code",
   "execution_count": 42,
   "id": "28c38bfd",
   "metadata": {},
   "outputs": [
    {
     "name": "stdout",
     "output_type": "stream",
     "text": [
      "[1 0 2 1 1 0 1 2 1 1 2 0 0 0 0 1 2 1 1 2 0 2 0 2 2 2 2 2 0 0]\n"
     ]
    }
   ],
   "source": [
    "predictions = np.asarray([np.argmax(line) for line in preds])\n",
    "print(predictions)"
   ]
  },
  {
   "cell_type": "code",
   "execution_count": 43,
   "id": "033299ea",
   "metadata": {},
   "outputs": [
    {
     "name": "stdout",
     "output_type": "stream",
     "text": [
      "1.0\n"
     ]
    }
   ],
   "source": [
    "\n",
    "print(precision_score(y_test, predictions, average='macro'))"
   ]
  }
 ],
 "metadata": {
  "kernelspec": {
   "display_name": "Python 3 (ipykernel)",
   "language": "python",
   "name": "python3"
  },
  "language_info": {
   "codemirror_mode": {
    "name": "ipython",
    "version": 3
   },
   "file_extension": ".py",
   "mimetype": "text/x-python",
   "name": "python",
   "nbconvert_exporter": "python",
   "pygments_lexer": "ipython3",
   "version": "3.9.7"
  }
 },
 "nbformat": 4,
 "nbformat_minor": 5
}
